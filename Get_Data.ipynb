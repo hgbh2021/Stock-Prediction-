{
 "cells": [
  {
   "cell_type": "code",
   "execution_count": 9,
   "metadata": {},
   "outputs": [],
   "source": [
    "import yfinance as yf\n",
    "import pandas as pd"
   ]
  },
  {
   "cell_type": "code",
   "execution_count": 23,
   "metadata": {},
   "outputs": [],
   "source": [
    "x = yf.Ticker(\"TATAMOTORS.NS\")\n",
    "data = x.history(start=\"1998-10-23\").reset_index().drop(columns=[\"Dividends\", \"Stock Splits\"])"
   ]
  },
  {
   "cell_type": "code",
   "execution_count": 24,
   "metadata": {},
   "outputs": [
    {
     "data": {
      "text/plain": [
       "(6278, 6)"
      ]
     },
     "execution_count": 24,
     "metadata": {},
     "output_type": "execute_result"
    }
   ],
   "source": [
    "data.shape"
   ]
  },
  {
   "cell_type": "code",
   "execution_count": 25,
   "metadata": {},
   "outputs": [
    {
     "data": {
      "text/html": [
       "<div>\n",
       "<style scoped>\n",
       "    .dataframe tbody tr th:only-of-type {\n",
       "        vertical-align: middle;\n",
       "    }\n",
       "\n",
       "    .dataframe tbody tr th {\n",
       "        vertical-align: top;\n",
       "    }\n",
       "\n",
       "    .dataframe thead th {\n",
       "        text-align: right;\n",
       "    }\n",
       "</style>\n",
       "<table border=\"1\" class=\"dataframe\">\n",
       "  <thead>\n",
       "    <tr style=\"text-align: right;\">\n",
       "      <th></th>\n",
       "      <th>Date</th>\n",
       "      <th>Open</th>\n",
       "      <th>High</th>\n",
       "      <th>Low</th>\n",
       "      <th>Close</th>\n",
       "      <th>Volume</th>\n",
       "    </tr>\n",
       "  </thead>\n",
       "  <tbody>\n",
       "    <tr>\n",
       "      <th>0</th>\n",
       "      <td>1998-10-23 00:00:00+05:30</td>\n",
       "      <td>14.615395</td>\n",
       "      <td>15.427776</td>\n",
       "      <td>14.317274</td>\n",
       "      <td>15.129654</td>\n",
       "      <td>17665237</td>\n",
       "    </tr>\n",
       "    <tr>\n",
       "      <th>1</th>\n",
       "      <td>1998-10-26 00:00:00+05:30</td>\n",
       "      <td>15.278712</td>\n",
       "      <td>16.344496</td>\n",
       "      <td>15.278712</td>\n",
       "      <td>16.187983</td>\n",
       "      <td>11531300</td>\n",
       "    </tr>\n",
       "    <tr>\n",
       "      <th>2</th>\n",
       "      <td>1998-10-27 00:00:00+05:30</td>\n",
       "      <td>16.314686</td>\n",
       "      <td>17.484813</td>\n",
       "      <td>15.696084</td>\n",
       "      <td>17.112160</td>\n",
       "      <td>21477780</td>\n",
       "    </tr>\n",
       "    <tr>\n",
       "      <th>3</th>\n",
       "      <td>1998-10-28 00:00:00+05:30</td>\n",
       "      <td>16.918385</td>\n",
       "      <td>17.693501</td>\n",
       "      <td>16.322142</td>\n",
       "      <td>16.456297</td>\n",
       "      <td>18610023</td>\n",
       "    </tr>\n",
       "    <tr>\n",
       "      <th>4</th>\n",
       "      <td>1998-10-29 00:00:00+05:30</td>\n",
       "      <td>16.351948</td>\n",
       "      <td>17.104705</td>\n",
       "      <td>15.964392</td>\n",
       "      <td>16.873661</td>\n",
       "      <td>15478216</td>\n",
       "    </tr>\n",
       "  </tbody>\n",
       "</table>\n",
       "</div>"
      ],
      "text/plain": [
       "                       Date       Open       High        Low      Close  \\\n",
       "0 1998-10-23 00:00:00+05:30  14.615395  15.427776  14.317274  15.129654   \n",
       "1 1998-10-26 00:00:00+05:30  15.278712  16.344496  15.278712  16.187983   \n",
       "2 1998-10-27 00:00:00+05:30  16.314686  17.484813  15.696084  17.112160   \n",
       "3 1998-10-28 00:00:00+05:30  16.918385  17.693501  16.322142  16.456297   \n",
       "4 1998-10-29 00:00:00+05:30  16.351948  17.104705  15.964392  16.873661   \n",
       "\n",
       "     Volume  \n",
       "0  17665237  \n",
       "1  11531300  \n",
       "2  21477780  \n",
       "3  18610023  \n",
       "4  15478216  "
      ]
     },
     "execution_count": 25,
     "metadata": {},
     "output_type": "execute_result"
    }
   ],
   "source": [
    "data.head()"
   ]
  },
  {
   "cell_type": "code",
   "execution_count": 4,
   "metadata": {},
   "outputs": [],
   "source": [
    "data.to_csv(\"Data.csv\", index=False)"
   ]
  }
 ],
 "metadata": {
  "kernelspec": {
   "display_name": "Python 3",
   "language": "python",
   "name": "python3"
  },
  "language_info": {
   "codemirror_mode": {
    "name": "ipython",
    "version": 3
   },
   "file_extension": ".py",
   "mimetype": "text/x-python",
   "name": "python",
   "nbconvert_exporter": "python",
   "pygments_lexer": "ipython3",
   "version": "3.10.13"
  }
 },
 "nbformat": 4,
 "nbformat_minor": 2
}
